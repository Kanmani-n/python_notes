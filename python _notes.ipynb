{
 "cells": [
  {
   "cell_type": "code",
   "execution_count": null,
   "id": "46119266-8f3a-4bc6-86a1-d282f1f98cf6",
   "metadata": {},
   "outputs": [],
   "source": [
    "#Control Statments\n",
    "#control the flow of execution in a program\n",
    "#allows you to make decisions, repeat actions, or exit loops based on specific conditions\n"
   ]
  },
  {
   "cell_type": "code",
   "execution_count": null,
   "id": "80424652-358c-4973-8537-93148b8f9129",
   "metadata": {},
   "outputs": [],
   "source": [
    "#if Statement: Executes a block if the condition is True.\n",
    "#if-else Statement: Executes one block if the condition is True, otherwise executes another block.\n",
    "#if-elif-else Statement: Allows multiple conditions to be checked sequentially."
   ]
  },
  {
   "cell_type": "code",
   "execution_count": null,
   "id": "c43857c5-b2c0-4b2f-a82d-abab4e61ad25",
   "metadata": {},
   "outputs": [],
   "source": [
    "#if Statement:"
   ]
  },
  {
   "cell_type": "code",
   "execution_count": 2,
   "id": "fb4cd259-ad3e-4b43-b015-f9ab9fdc2d43",
   "metadata": {},
   "outputs": [
    {
     "name": "stdout",
     "output_type": "stream",
     "text": [
      "a value is correct\n"
     ]
    }
   ],
   "source": [
    "a = 7\n",
    "if a > 5:\n",
    "    print(\"a value is correct\")"
   ]
  },
  {
   "cell_type": "code",
   "execution_count": 5,
   "id": "d5dc971f-0d3c-4293-b28d-4133884445a1",
   "metadata": {},
   "outputs": [
    {
     "name": "stdout",
     "output_type": "stream",
     "text": [
      "a value is less\n"
     ]
    }
   ],
   "source": [
    "a = 1\n",
    "if a > 5:\n",
    "    print(\"a value is correct\")\n",
    "else:\n",
    "    print(\"a value is less\")"
   ]
  },
  {
   "cell_type": "code",
   "execution_count": 10,
   "id": "1dd79c0a-6ba1-400a-b60f-c241fea3a4e1",
   "metadata": {},
   "outputs": [
    {
     "name": "stdout",
     "output_type": "stream",
     "text": [
      "a value is equal\n"
     ]
    }
   ],
   "source": [
    "a = 5\n",
    "if a > 5:\n",
    "    print(\"a value is correct\")\n",
    "elif a==5:\n",
    "    print(\"a value is equal\")\n",
    "else:\n",
    "    print(\"a value is less\")\n",
    "    "
   ]
  },
  {
   "cell_type": "code",
   "execution_count": null,
   "id": "5400e725-dfb7-4cf0-9859-5f295a935801",
   "metadata": {},
   "outputs": [],
   "source": [
    "# Looping Statements"
   ]
  },
  {
   "cell_type": "code",
   "execution_count": null,
   "id": "138f58fd-e47d-4edb-b064-6e1440cd374e",
   "metadata": {},
   "outputs": [],
   "source": [
    "#These are used to repeat a block of code multiple times.\n",
    "#for Loop: Iterates over a sequence (like a list, tuple, or string).\n",
    "#while Loop: Repeats as long as a condition is True."
   ]
  },
  {
   "cell_type": "code",
   "execution_count": 11,
   "id": "93464cb0-9ded-4ccf-a8d1-3f0347817b5e",
   "metadata": {},
   "outputs": [
    {
     "name": "stdout",
     "output_type": "stream",
     "text": [
      "Iteration 0\n",
      "Iteration 1\n",
      "Iteration 2\n"
     ]
    }
   ],
   "source": [
    "#For loop example\n",
    "for i in range(3):\n",
    "    print(f\"Iteration {i}\")"
   ]
  },
  {
   "cell_type": "code",
   "execution_count": 12,
   "id": "aa84c33f-c9ae-4012-99a9-587063c7a1f6",
   "metadata": {},
   "outputs": [
    {
     "name": "stdout",
     "output_type": "stream",
     "text": [
      "Count is 0\n",
      "Count is 1\n",
      "Count is 2\n"
     ]
    }
   ],
   "source": [
    "# While loop example\n",
    "count = 0\n",
    "while count < 3:\n",
    "    print(f\"Count is {count}\")\n",
    "    count += 1"
   ]
  },
  {
   "cell_type": "code",
   "execution_count": null,
   "id": "46334710-883f-492a-8ccc-fdc480d9fd96",
   "metadata": {},
   "outputs": [],
   "source": [
    "#These are used to alter the normal flow of loops.\n",
    "#break: Exits the loop prematurely.\n",
    "#continue: Skips the current iteration and moves to the next one.\n",
    "#pass: Does nothing; used as a placeholder."
   ]
  },
  {
   "cell_type": "code",
   "execution_count": 14,
   "id": "e81df7ee-17a8-474a-9260-75d363e95065",
   "metadata": {},
   "outputs": [
    {
     "name": "stdout",
     "output_type": "stream",
     "text": [
      "2\n",
      "3\n",
      "4\n",
      "5\n",
      "6\n"
     ]
    }
   ],
   "source": [
    "# Break example\n",
    "for i in range(2,10):\n",
    "    if i == 7:\n",
    "        break\n",
    "    print(i)\n"
   ]
  },
  {
   "cell_type": "code",
   "execution_count": 16,
   "id": "2e2bb45e-cb4d-432b-b890-3d793f91ad64",
   "metadata": {},
   "outputs": [
    {
     "name": "stdout",
     "output_type": "stream",
     "text": [
      "1\n",
      "2\n",
      "3\n",
      "4\n",
      "5\n",
      "6\n",
      "8\n",
      "9\n",
      "10\n",
      "11\n"
     ]
    }
   ],
   "source": [
    "# Continue example\n",
    "for i in range(1,12):\n",
    "    if i == 7:\n",
    "        continue\n",
    "    print(i)\n"
   ]
  },
  {
   "cell_type": "code",
   "execution_count": 18,
   "id": "3bf1c94e-e7ae-4e0a-99ab-397c9e022800",
   "metadata": {},
   "outputs": [
    {
     "name": "stdout",
     "output_type": "stream",
     "text": [
      "0\n",
      "1\n",
      "2\n",
      "3\n",
      "4\n",
      "5\n"
     ]
    }
   ],
   "source": [
    "# Pass example\n",
    "for i in range(6):\n",
    "    if i == 3:\n",
    "        pass  # Placeholder for future code\n",
    "    print(i)"
   ]
  },
  {
   "cell_type": "code",
   "execution_count": null,
   "id": "4e751996-35af-4eb5-bcc3-33c27ae804d6",
   "metadata": {},
   "outputs": [],
   "source": [
    "#File Handling :  files—reading, writing, and manipulating them\n",
    "#Opening a File:\n",
    "#Reading a File:\n",
    "#Writing to a File:\n"
   ]
  },
  {
   "cell_type": "code",
   "execution_count": null,
   "id": "8285ae92-df67-4220-8f5c-09b178469e56",
   "metadata": {},
   "outputs": [],
   "source": [
    "#Opening a File:\n",
    "file = open(\"hello.txt\", \"r\") "
   ]
  },
  {
   "cell_type": "code",
   "execution_count": null,
   "id": "fa1606fc-3b69-4e2e-81f8-0ca187262e38",
   "metadata": {},
   "outputs": [],
   "source": [
    "#Reading a File:\n",
    "with open(\"example.txt\", \"r\") as file:\n",
    "    content = file.read()  # Reads the entire file\n",
    "    print(content)"
   ]
  },
  {
   "cell_type": "code",
   "execution_count": null,
   "id": "0dcf3587-8c62-4816-9739-e6c0e12ac2f6",
   "metadata": {},
   "outputs": [],
   "source": [
    "#Writing to a File:\n",
    "with open(\"example.txt\", \"w\") as file:\n",
    "    file.write(\"Hello, World!\")  # Overwrites the file"
   ]
  },
  {
   "cell_type": "code",
   "execution_count": null,
   "id": "1a4aea07-4157-4ec6-9897-7c62a635db39",
   "metadata": {},
   "outputs": [],
   "source": [
    "#appending file\n",
    "with open(\"example.txt\", \"a\") as file:\n",
    "    file.write(\"\\nAppending this line.\")"
   ]
  },
  {
   "cell_type": "code",
   "execution_count": null,
   "id": "0a5a4497-b584-4c5d-98e4-a7c4951fa927",
   "metadata": {},
   "outputs": [],
   "source": [
    "#Closing a File\n",
    "file.close()"
   ]
  },
  {
   "cell_type": "code",
   "execution_count": null,
   "id": "504a2c2c-b341-495f-ba79-de9115023107",
   "metadata": {},
   "outputs": [],
   "source": [
    "#read methods\n",
    "read(): #Reads the entire file.\n",
    "readline(): #Reads one line at a time.\n",
    "readlines(): #Returns a list of all lines."
   ]
  },
  {
   "cell_type": "code",
   "execution_count": null,
   "id": "305ccd19-7952-4448-a1eb-e78ee728d145",
   "metadata": {},
   "outputs": [],
   "source": [
    "#write methods\n",
    "write(): # Writes a string to the file.\n",
    "writelines(): # Writes a list of strings."
   ]
  },
  {
   "cell_type": "code",
   "execution_count": null,
   "id": "8fca3aad-33b5-417a-90d0-68d90a692d34",
   "metadata": {},
   "outputs": [],
   "source": [
    "#Exception Handling\n",
    "#handle runtime errors , ensuring the program doesn't crash unexpectedly"
   ]
  },
  {
   "cell_type": "code",
   "execution_count": null,
   "id": "b001c469-da82-4cf6-bcb8-acf3f849ce4e",
   "metadata": {},
   "outputs": [],
   "source": [
    "#Components\n",
    "#try Block: Code that might raise an exception is placed here.\n",
    "#except Block: Handles the exception if it occurs.\n",
    "#else Block: Executes if no exception occurs in the try block.\n",
    "#finally Block: Executes regardless of whether an exception occurred or not, often used for cleanup."
   ]
  },
  {
   "cell_type": "code",
   "execution_count": 22,
   "id": "7584e311-b208-4a05-95b0-921ec9ea592b",
   "metadata": {},
   "outputs": [
    {
     "name": "stdin",
     "output_type": "stream",
     "text": [
      "Enter a number:  \n"
     ]
    },
    {
     "name": "stdout",
     "output_type": "stream",
     "text": [
      "Invalid input! Please enter a valid number.\n"
     ]
    }
   ],
   "source": [
    "try:\n",
    "    num = int(input(\"Enter a number: \"))\n",
    "    print(f\"The number is {num}\")\n",
    "except ValueError:\n",
    "    print(\"Invalid input! Please enter a valid number.\")"
   ]
  },
  {
   "cell_type": "code",
   "execution_count": 29,
   "id": "b6c302a9-63b1-4b5e-93fe-60ac565361f4",
   "metadata": {},
   "outputs": [
    {
     "name": "stdout",
     "output_type": "stream",
     "text": [
      "\n",
      "File read successfully.\n",
      "File closed.\n"
     ]
    }
   ],
   "source": [
    "try:\n",
    "    file = open(\"assessment.txt\", \"r\")\n",
    "    content = file.read()\n",
    "    print(content)\n",
    "except FileNotFoundError:\n",
    "    print(\"File not found!\")\n",
    "else:\n",
    "    print(\"File read successfully.\")\n",
    "finally:\n",
    "    if 'file' in locals() and not file.closed:\n",
    "        file.close()\n",
    "        print(\"File closed.\")"
   ]
  },
  {
   "cell_type": "code",
   "execution_count": 27,
   "id": "f8de9499-a5dd-45ed-a075-a800154dd622",
   "metadata": {},
   "outputs": [
    {
     "name": "stdin",
     "output_type": "stream",
     "text": [
      "numerator:  9\n",
      "denominator:  0\n"
     ]
    },
    {
     "name": "stdout",
     "output_type": "stream",
     "text": [
      "Division by zero error.\n"
     ]
    }
   ],
   "source": [
    "try:\n",
    "    a = int(input(\"numerator: \"))\n",
    "    b = int(input(\"denominator: \"))\n",
    "    result = a / b\n",
    "    print(f\"Result: {result}\")\n",
    "except ValueError:\n",
    "    print(\"Invalid input\")\n",
    "except ZeroDivisionError:\n",
    "    print(\"Division by zero error.\")"
   ]
  },
  {
   "cell_type": "code",
   "execution_count": null,
   "id": "aa835f94-5e26-40a0-b265-4b92e2480428",
   "metadata": {},
   "outputs": [],
   "source": [
    "#functions\n",
    "#functions are reusable blocks of code designed to perform a specific task"
   ]
  },
  {
   "cell_type": "code",
   "execution_count": 4,
   "id": "a7d49039-093d-44a8-b0d7-11256998fc5e",
   "metadata": {},
   "outputs": [],
   "source": [
    "#define a function using the def keyword\n",
    "def wish():\n",
    "    print(\"Good morning!\")"
   ]
  },
  {
   "cell_type": "code",
   "execution_count": 5,
   "id": "b68d7ecc-730d-4ad5-a971-46398b2604a8",
   "metadata": {},
   "outputs": [
    {
     "name": "stdout",
     "output_type": "stream",
     "text": [
      "Good morning!\n"
     ]
    }
   ],
   "source": [
    "#calling a function\n",
    "wish()"
   ]
  },
  {
   "cell_type": "code",
   "execution_count": 6,
   "id": "56741cf5-044a-4418-90ed-dbdaba0756e7",
   "metadata": {},
   "outputs": [],
   "source": [
    "#Functions with Parameters\n",
    "def profile(name):\n",
    "    print(f\"My name is , {name}!\")"
   ]
  },
  {
   "cell_type": "code",
   "execution_count": 9,
   "id": "dd0438d6-0bfd-465c-9389-cbf6d16af2e5",
   "metadata": {},
   "outputs": [
    {
     "name": "stdout",
     "output_type": "stream",
     "text": [
      "My name is , kanmani!\n"
     ]
    }
   ],
   "source": [
    "profile('kanmani')"
   ]
  },
  {
   "cell_type": "code",
   "execution_count": 11,
   "id": "ac4190a8-96ed-4933-94f6-f588ce579595",
   "metadata": {},
   "outputs": [],
   "source": [
    "#Functions with Return Values\n",
    "def sub(a,b):\n",
    "    return a-b"
   ]
  },
  {
   "cell_type": "code",
   "execution_count": 16,
   "id": "28ca7c72-2f2b-4b9f-92e9-649ec7794a9b",
   "metadata": {},
   "outputs": [
    {
     "name": "stdout",
     "output_type": "stream",
     "text": [
      "answer is 6\n"
     ]
    }
   ],
   "source": [
    "result = sub(9,3)\n",
    "print(f\"answer is {result}\")"
   ]
  },
  {
   "cell_type": "code",
   "execution_count": 18,
   "id": "fe328ea0-15af-4de4-a0f5-e9568ad364df",
   "metadata": {},
   "outputs": [],
   "source": [
    "#default parameters\n",
    "def profile(name=\"\"):\n",
    "    print(f'Welcome {name}')"
   ]
  },
  {
   "cell_type": "code",
   "execution_count": 21,
   "id": "91e73745-79bf-47a1-8473-bdf5c3f16ee0",
   "metadata": {},
   "outputs": [
    {
     "name": "stdout",
     "output_type": "stream",
     "text": [
      "Welcome kanmani\n"
     ]
    }
   ],
   "source": [
    "name= \"kanmani\"\n",
    "profile(name)"
   ]
  },
  {
   "cell_type": "code",
   "execution_count": 2,
   "id": "1fe1b994-9b9a-40d6-8107-fdf964a44d22",
   "metadata": {},
   "outputs": [],
   "source": [
    "#function with two arguments\n",
    "def student(mark , grade):\n",
    "    print(f\"My mark is {mark} and my grade is {grade}\")\n"
   ]
  },
  {
   "cell_type": "code",
   "execution_count": 3,
   "id": "57f78736-fe96-478f-a46c-f83f0e3a498f",
   "metadata": {},
   "outputs": [
    {
     "name": "stdout",
     "output_type": "stream",
     "text": [
      "My mark is 900 and my grade is A\n"
     ]
    }
   ],
   "source": [
    "student(900,'A')"
   ]
  },
  {
   "cell_type": "code",
   "execution_count": 3,
   "id": "ef0eb907-308b-4670-bb8a-3e019bec6409",
   "metadata": {},
   "outputs": [],
   "source": [
    "# Variable Length Arguments\n",
    "def add(*args):\n",
    "    return add(args)"
   ]
  },
  {
   "cell_type": "code",
   "execution_count": null,
   "id": "2c95dbcd-576e-4391-8804-db66c60a4cbd",
   "metadata": {},
   "outputs": [],
   "source": [
    "add(4,6,7,9,2,7)"
   ]
  },
  {
   "cell_type": "code",
   "execution_count": 18,
   "id": "cd5335a2-abfd-4e07-8813-6811fcf99cfc",
   "metadata": {},
   "outputs": [
    {
     "name": "stdout",
     "output_type": "stream",
     "text": [
      "64\n"
     ]
    }
   ],
   "source": [
    "cube = lambda x: x**3\n",
    "print(cube(4))"
   ]
  },
  {
   "cell_type": "code",
   "execution_count": 19,
   "id": "6b6a8163-80a0-4b52-90c0-728098f61a4f",
   "metadata": {},
   "outputs": [],
   "source": [
    "#factorial\n",
    "def factorial(n):\n",
    "    if n == 0:\n",
    "        return 1\n",
    "    return n * factorial(n - 1)"
   ]
  },
  {
   "cell_type": "code",
   "execution_count": 20,
   "id": "611591ec-8d0a-48bf-9e57-0e271fd9acca",
   "metadata": {},
   "outputs": [
    {
     "name": "stdout",
     "output_type": "stream",
     "text": [
      "5040\n"
     ]
    }
   ],
   "source": [
    "print(factorial(7))"
   ]
  },
  {
   "cell_type": "code",
   "execution_count": null,
   "id": "270a80d3-a071-404e-a3e6-8376436e2d73",
   "metadata": {},
   "outputs": [],
   "source": [
    "python built in functions"
   ]
  },
  {
   "cell_type": "code",
   "execution_count": null,
   "id": "97e35966-fb72-48a2-8db5-b659cfb7ad19",
   "metadata": {},
   "outputs": [],
   "source": [
    "#abs(x): Returns the absolute value of a number.\n",
    "#round(x, n): Rounds a number to n decimal places.\n",
    "#pow(x, y): Returns $$x^y$$ (x raised to the power of y).\n",
    "#sum(iterable): Returns the sum of all elements in an iterable."
   ]
  },
  {
   "cell_type": "code",
   "execution_count": null,
   "id": "9ab7bab6-6bcf-42d9-bee4-1819f5069851",
   "metadata": {},
   "outputs": [],
   "source": [
    "#int(x): Converts x to an integer.\n",
    "#float(x): Converts x to a floating-point number.\n",
    "#str(x): Converts x to a string.\n",
    "#list(iterable): Converts an iterable to a list."
   ]
  },
  {
   "cell_type": "code",
   "execution_count": null,
   "id": "c565d62f-f29d-4a0e-8b93-227e98a67d52",
   "metadata": {},
   "outputs": [],
   "source": [
    "#print(*objects): Prints objects to the console.\n",
    "#input(prompt): Reads input from the user as a string."
   ]
  },
  {
   "cell_type": "code",
   "execution_count": null,
   "id": "67297578-4e6c-46a1-92dd-7ffeca58bfc6",
   "metadata": {},
   "outputs": [],
   "source": [
    "#len(obj): Returns the length of an object (e.g., list, string, dictionary).\n",
    "#max(iterable): Returns the largest item in an iterable.\n",
    "#min(iterable): Returns the smallest item in an iterable.\n",
    "#sorted(iterable): Returns a sorted list from the iterable."
   ]
  },
  {
   "cell_type": "code",
   "execution_count": null,
   "id": "03a21bff-350e-4501-9597-24536da88479",
   "metadata": {},
   "outputs": [],
   "source": [
    "#type(obj): Returns the type of an object.\n",
    "#id(obj): Returns the memory address of an object.\n",
    "#help(obj): Displays the documentation for an object.\n",
    "#dir(obj): Lists the attributes and methods of an object."
   ]
  },
  {
   "cell_type": "code",
   "execution_count": null,
   "id": "baac5228-dc64-4d79-8b41-11a0c880d73a",
   "metadata": {},
   "outputs": [],
   "source": [
    "1#isinstance(), issubclass()\n",
    "#complex(), bool(), tuple(), set(), dict()\n",
    "#ord(), chr(), hex(), bin(), oct()"
   ]
  },
  {
   "cell_type": "code",
   "execution_count": null,
   "id": "8468283c-d9cc-4bbd-aeea-a89ab544fabc",
   "metadata": {},
   "outputs": [],
   "source": [
    "#range(): Generates a sequence of numbers.\n",
    "#enumerate(): Adds an index to an iterable.\n",
    "#zip(): Combines multiple iterables.\n",
    "#map(), filter(), sorted(), reversed()"
   ]
  },
  {
   "cell_type": "code",
   "execution_count": null,
   "id": "70174fda-463e-469c-9c0a-499fd853b8c6",
   "metadata": {},
   "outputs": [],
   "source": [
    "#any(), all(): Check conditions in iterables.\n",
    "#eval(): Evaluates a string as Python code.\n",
    "#exec(): Executes Python code dynamically.\n",
    "#callable(): Checks if an object is callable.\n",
    "#hash(): Returns the hash value of an object."
   ]
  },
  {
   "cell_type": "code",
   "execution_count": null,
   "id": "269886c6-a376-44af-bca8-8f6c1e784ecb",
   "metadata": {},
   "outputs": [],
   "source": [
    "#numpy pandas\n",
    "# numerical computing \n",
    "#support for large, multi-dimensional arrays and matrices"
   ]
  },
  {
   "cell_type": "code",
   "execution_count": 1,
   "id": "7522b37f-81d0-45a5-af52-d94b2fa0c62c",
   "metadata": {},
   "outputs": [],
   "source": [
    "import numpy as np"
   ]
  },
  {
   "cell_type": "code",
   "execution_count": 2,
   "id": "7bdffdce-06cf-41e0-b36b-51bfac283f25",
   "metadata": {},
   "outputs": [
    {
     "data": {
      "text/plain": [
       "array([1, 2, 3])"
      ]
     },
     "execution_count": 2,
     "metadata": {},
     "output_type": "execute_result"
    }
   ],
   "source": [
    "#create array\n",
    "arr=np.array([1,2,3])\n",
    "arr"
   ]
  },
  {
   "cell_type": "code",
   "execution_count": 3,
   "id": "aec2acb2-e86f-46b0-9c20-b9c988e60483",
   "metadata": {},
   "outputs": [
    {
     "data": {
      "text/plain": [
       "(3,)"
      ]
     },
     "execution_count": 3,
     "metadata": {},
     "output_type": "execute_result"
    }
   ],
   "source": [
    "#tells the dimension of the array\n",
    "arr.shape "
   ]
  },
  {
   "cell_type": "code",
   "execution_count": 4,
   "id": "0a10e4f1-2bdc-4863-87d5-1342a6c5a1c6",
   "metadata": {},
   "outputs": [
    {
     "data": {
      "text/plain": [
       "1"
      ]
     },
     "execution_count": 4,
     "metadata": {},
     "output_type": "execute_result"
    }
   ],
   "source": [
    "#finds the number of dimensions of the array \n",
    "arr.ndim"
   ]
  },
  {
   "cell_type": "code",
   "execution_count": 5,
   "id": "27ead88c-afe2-4275-ae7f-10bb9bb93649",
   "metadata": {},
   "outputs": [
    {
     "data": {
      "text/plain": [
       "dtype('int64')"
      ]
     },
     "execution_count": 5,
     "metadata": {},
     "output_type": "execute_result"
    }
   ],
   "source": [
    "#tells the data type\n",
    "arr.dtype"
   ]
  },
  {
   "cell_type": "code",
   "execution_count": 6,
   "id": "91c79dbe-55f5-47f4-a3c2-7580b13391e3",
   "metadata": {},
   "outputs": [],
   "source": [
    "a3 = np.array([\n",
    " [[1, 2], [3, 4]],\n",
    " [[5, 6], [7, 8]]\n",
    "])"
   ]
  },
  {
   "cell_type": "code",
   "execution_count": 8,
   "id": "b050e976-c5d4-41d5-b348-e5568a01eb16",
   "metadata": {},
   "outputs": [
    {
     "data": {
      "text/plain": [
       "array([[[1, 2],\n",
       "        [3, 4]],\n",
       "\n",
       "       [[5, 6],\n",
       "        [7, 8]]])"
      ]
     },
     "execution_count": 8,
     "metadata": {},
     "output_type": "execute_result"
    }
   ],
   "source": [
    "a3"
   ]
  },
  {
   "cell_type": "code",
   "execution_count": 9,
   "id": "5b5eab7f-36f3-48c2-9b27-485de65271f8",
   "metadata": {},
   "outputs": [],
   "source": [
    "#create a new of given shape filled with 0's\n",
    "z=np.zeros((2,3))"
   ]
  },
  {
   "cell_type": "code",
   "execution_count": 10,
   "id": "5e07ec85-9d8b-4cdc-8044-77aad471a737",
   "metadata": {},
   "outputs": [
    {
     "data": {
      "text/plain": [
       "array([[0., 0., 0.],\n",
       "       [0., 0., 0.]])"
      ]
     },
     "execution_count": 10,
     "metadata": {},
     "output_type": "execute_result"
    }
   ],
   "source": [
    "z"
   ]
  },
  {
   "cell_type": "code",
   "execution_count": 11,
   "id": "3b2a17f5-be94-45e7-bee8-2d323270e6a3",
   "metadata": {},
   "outputs": [],
   "source": [
    "#create array filled with 1's\n",
    "r=np.ones((2,3))"
   ]
  },
  {
   "cell_type": "code",
   "execution_count": 12,
   "id": "948fa40c-fcb2-4609-9dd8-a10938b33cbf",
   "metadata": {},
   "outputs": [
    {
     "data": {
      "text/plain": [
       "array([[1., 1., 1.],\n",
       "       [1., 1., 1.]])"
      ]
     },
     "execution_count": 12,
     "metadata": {},
     "output_type": "execute_result"
    }
   ],
   "source": [
    "r"
   ]
  },
  {
   "cell_type": "code",
   "execution_count": 13,
   "id": "4e6451f6-6aec-4b43-a8f6-6ba494e421c6",
   "metadata": {},
   "outputs": [],
   "source": [
    "#create an array with evenly spaced values within a specified range\n",
    "d=np.arange(0,10,2) "
   ]
  },
  {
   "cell_type": "code",
   "execution_count": 14,
   "id": "4579db7e-a770-48de-ac9f-32369367ec74",
   "metadata": {},
   "outputs": [
    {
     "data": {
      "text/plain": [
       "array([0, 2, 4, 6, 8])"
      ]
     },
     "execution_count": 14,
     "metadata": {},
     "output_type": "execute_result"
    }
   ],
   "source": [
    "d"
   ]
  },
  {
   "cell_type": "code",
   "execution_count": 15,
   "id": "caf0ef46-86ef-4a1d-9c56-397cba65c817",
   "metadata": {},
   "outputs": [],
   "source": [
    "#used to generate evenly spaced numbers over a specified range\n",
    "f=np.linspace(5,50,5)"
   ]
  },
  {
   "cell_type": "code",
   "execution_count": 16,
   "id": "567989d2-131b-4580-bd72-913c0c1d7d6f",
   "metadata": {},
   "outputs": [
    {
     "data": {
      "text/plain": [
       "array([ 5.  , 16.25, 27.5 , 38.75, 50.  ])"
      ]
     },
     "execution_count": 16,
     "metadata": {},
     "output_type": "execute_result"
    }
   ],
   "source": [
    "f"
   ]
  },
  {
   "cell_type": "code",
   "execution_count": 19,
   "id": "efb9ed90-fd53-41fc-a6a5-d844770763c4",
   "metadata": {},
   "outputs": [],
   "source": [
    "#creates a 2D array with ones on the main diagonal and zeros elsewhere,\n",
    "#identity matrix\n",
    "i=np.eye(3)"
   ]
  },
  {
   "cell_type": "code",
   "execution_count": 20,
   "id": "0cb6ecac-ab93-4cfc-aaf5-8534c2fcbda6",
   "metadata": {},
   "outputs": [
    {
     "data": {
      "text/plain": [
       "array([[1., 0., 0.],\n",
       "       [0., 1., 0.],\n",
       "       [0., 0., 1.]])"
      ]
     },
     "execution_count": 20,
     "metadata": {},
     "output_type": "execute_result"
    }
   ],
   "source": [
    "i"
   ]
  },
  {
   "cell_type": "code",
   "execution_count": 21,
   "id": "59ca392d-3618-4e71-8690-e073ea9e710a",
   "metadata": {},
   "outputs": [],
   "source": [
    "#element wise operation"
   ]
  },
  {
   "cell_type": "code",
   "execution_count": 23,
   "id": "45563c0b-20fc-4aae-af29-4042a193357d",
   "metadata": {},
   "outputs": [
    {
     "data": {
      "text/plain": [
       "array([1, 2, 3, 4])"
      ]
     },
     "execution_count": 23,
     "metadata": {},
     "output_type": "execute_result"
    }
   ],
   "source": [
    "s=np.array([1,2,3,4])\n",
    "s"
   ]
  },
  {
   "cell_type": "code",
   "execution_count": 24,
   "id": "a3a31590-5ad9-4a40-afac-d2f481198ed4",
   "metadata": {},
   "outputs": [
    {
     "data": {
      "text/plain": [
       "array([6, 7, 8, 9])"
      ]
     },
     "execution_count": 24,
     "metadata": {},
     "output_type": "execute_result"
    }
   ],
   "source": [
    "r=np.array([6,7,8,9])\n",
    "r"
   ]
  },
  {
   "cell_type": "code",
   "execution_count": 25,
   "id": "38fec323-13c2-4c8a-8c84-5d6a5ddee14e",
   "metadata": {},
   "outputs": [
    {
     "data": {
      "text/plain": [
       "array([ 7,  9, 11, 13])"
      ]
     },
     "execution_count": 25,
     "metadata": {},
     "output_type": "execute_result"
    }
   ],
   "source": [
    "s+r"
   ]
  },
  {
   "cell_type": "code",
   "execution_count": 26,
   "id": "0ae5982f-efb5-4e21-9cf9-c993fb0860ec",
   "metadata": {},
   "outputs": [
    {
     "data": {
      "text/plain": [
       "array([ 6, 14, 24, 36])"
      ]
     },
     "execution_count": 26,
     "metadata": {},
     "output_type": "execute_result"
    }
   ],
   "source": [
    "s*r"
   ]
  },
  {
   "cell_type": "code",
   "execution_count": 27,
   "id": "9eb2e3e1-e673-4d0b-a77a-bffd021e8e9f",
   "metadata": {},
   "outputs": [
    {
     "data": {
      "text/plain": [
       "array([ 1,  4,  9, 16])"
      ]
     },
     "execution_count": 27,
     "metadata": {},
     "output_type": "execute_result"
    }
   ],
   "source": [
    "s**2"
   ]
  },
  {
   "cell_type": "code",
   "execution_count": null,
   "id": "57300b71-fd52-4c1d-9dab-fe8ebd1c19d0",
   "metadata": {},
   "outputs": [],
   "source": [
    "#np.zeros((2, 3)) # 2x3 array of zeros\n",
    "#np.ones((2, 2)) # 2x2 array of ones\n",
    "#np.eye(3) # 3x3 identity matrix\n",
    "#np.arange(0, 10, 2) # [0, 2, 4, 6, 8]\n",
    "#np.linspace(0, 1, 5) # 5 values between 0 and 1"
   ]
  },
  {
   "cell_type": "code",
   "execution_count": 46,
   "id": "42983f61-dd7f-4eb7-80cb-ef3be6813a94",
   "metadata": {},
   "outputs": [],
   "source": [
    "#matrix multiplication\n",
    "y=np.dot(s,r)"
   ]
  },
  {
   "cell_type": "code",
   "execution_count": 47,
   "id": "c0b7a2b6-2e95-4e28-98f1-f504ba3f2785",
   "metadata": {},
   "outputs": [
    {
     "data": {
      "text/plain": [
       "np.int64(80)"
      ]
     },
     "execution_count": 47,
     "metadata": {},
     "output_type": "execute_result"
    }
   ],
   "source": [
    "y"
   ]
  },
  {
   "cell_type": "code",
   "execution_count": 30,
   "id": "aee6139d-8b29-4f78-aebf-faf8083e6e8c",
   "metadata": {},
   "outputs": [],
   "source": [
    "k=np.array([5,6,7],dtype=float)"
   ]
  },
  {
   "cell_type": "code",
   "execution_count": 31,
   "id": "b7f9d13f-37e8-4f2e-832d-ceb53a68fc64",
   "metadata": {},
   "outputs": [
    {
     "data": {
      "text/plain": [
       "array([5., 6., 7.])"
      ]
     },
     "execution_count": 31,
     "metadata": {},
     "output_type": "execute_result"
    }
   ],
   "source": [
    "k"
   ]
  },
  {
   "cell_type": "code",
   "execution_count": 33,
   "id": "fe0f5615-bc46-4c37-8e91-d16a3714891d",
   "metadata": {},
   "outputs": [],
   "source": [
    "#given mean value\n",
    "w=np.mean(s)"
   ]
  },
  {
   "cell_type": "code",
   "execution_count": 34,
   "id": "6948807d-2017-449e-87e6-555f11f21833",
   "metadata": {},
   "outputs": [
    {
     "data": {
      "text/plain": [
       "np.float64(2.5)"
      ]
     },
     "execution_count": 34,
     "metadata": {},
     "output_type": "execute_result"
    }
   ],
   "source": [
    "w"
   ]
  },
  {
   "cell_type": "code",
   "execution_count": 35,
   "id": "197df283-1f36-4336-b9e8-e3c10f46732c",
   "metadata": {},
   "outputs": [],
   "source": [
    "#gives median value\n",
    "f=np.median(s) #no mode"
   ]
  },
  {
   "cell_type": "code",
   "execution_count": 36,
   "id": "b4a01caf-629b-49fd-9b50-cb622eac52bc",
   "metadata": {},
   "outputs": [
    {
     "data": {
      "text/plain": [
       "np.float64(2.5)"
      ]
     },
     "execution_count": 36,
     "metadata": {},
     "output_type": "execute_result"
    }
   ],
   "source": [
    "f"
   ]
  },
  {
   "cell_type": "code",
   "execution_count": 37,
   "id": "4aa58760-4615-41ff-9376-5cee11af2561",
   "metadata": {},
   "outputs": [],
   "source": [
    "#gives standard deviation value\n",
    "u=np.std(s)"
   ]
  },
  {
   "cell_type": "code",
   "execution_count": 38,
   "id": "dfcdda90-de48-4c75-9d08-b0ebbda95e4a",
   "metadata": {},
   "outputs": [
    {
     "data": {
      "text/plain": [
       "np.float64(1.118033988749895)"
      ]
     },
     "execution_count": 38,
     "metadata": {},
     "output_type": "execute_result"
    }
   ],
   "source": [
    "u"
   ]
  },
  {
   "cell_type": "code",
   "execution_count": 39,
   "id": "679d0f38-6cef-4fe5-804a-5e590a713cf6",
   "metadata": {},
   "outputs": [],
   "source": [
    "#gives the sine value in array\n",
    "#also will work with all trignometric operations like cos ,tan etc\n",
    "q=np.sin(s)"
   ]
  },
  {
   "cell_type": "code",
   "execution_count": 40,
   "id": "6e706ab8-5b49-4619-a8cd-b61735768d51",
   "metadata": {},
   "outputs": [
    {
     "data": {
      "text/plain": [
       "array([ 0.84147098,  0.90929743,  0.14112001, -0.7568025 ])"
      ]
     },
     "execution_count": 40,
     "metadata": {},
     "output_type": "execute_result"
    }
   ],
   "source": [
    "q"
   ]
  },
  {
   "cell_type": "code",
   "execution_count": 41,
   "id": "38024e00-7628-4b0d-9dcd-c86686472610",
   "metadata": {},
   "outputs": [
    {
     "data": {
      "text/plain": [
       "array([1, 2, 3, 4])"
      ]
     },
     "execution_count": 41,
     "metadata": {},
     "output_type": "execute_result"
    }
   ],
   "source": [
    "# gives the sorted array values without duplication\n",
    "np.unique(s)"
   ]
  },
  {
   "cell_type": "code",
   "execution_count": 42,
   "id": "20d67903-54a9-401f-88c2-c294177137ea",
   "metadata": {},
   "outputs": [
    {
     "data": {
      "text/plain": [
       "array([1, 2, 3, 4])"
      ]
     },
     "execution_count": 42,
     "metadata": {},
     "output_type": "execute_result"
    }
   ],
   "source": [
    "s"
   ]
  },
  {
   "cell_type": "code",
   "execution_count": 43,
   "id": "43f7bb3c-6405-4761-9071-ae27192fae94",
   "metadata": {},
   "outputs": [
    {
     "data": {
      "text/plain": [
       "array([1, 2, 3, 4])"
      ]
     },
     "execution_count": 43,
     "metadata": {},
     "output_type": "execute_result"
    }
   ],
   "source": [
    "#arrange the array values in ascending\n",
    "np.sort(s)"
   ]
  },
  {
   "cell_type": "code",
   "execution_count": 44,
   "id": "048668b7-3f97-4a27-bcc9-5b59671eee16",
   "metadata": {},
   "outputs": [
    {
     "data": {
      "text/plain": [
       "array([1, 2, 3, 4])"
      ]
     },
     "execution_count": 44,
     "metadata": {},
     "output_type": "execute_result"
    }
   ],
   "source": [
    "s"
   ]
  },
  {
   "cell_type": "code",
   "execution_count": 45,
   "id": "32e37abe-fca9-444d-8409-00bb2c31d402",
   "metadata": {},
   "outputs": [
    {
     "data": {
      "text/plain": [
       "array([1, 2, 3, 4, 6, 7, 8, 9])"
      ]
     },
     "execution_count": 45,
     "metadata": {},
     "output_type": "execute_result"
    }
   ],
   "source": [
    "#combines two array\n",
    "np.concatenate([s,r])"
   ]
  },
  {
   "cell_type": "code",
   "execution_count": null,
   "id": "29aae989-c008-4b62-b0c2-88118cc762f4",
   "metadata": {},
   "outputs": [],
   "source": []
  }
 ],
 "metadata": {
  "kernelspec": {
   "display_name": "Python 3 (ipykernel)",
   "language": "python",
   "name": "python3"
  },
  "language_info": {
   "codemirror_mode": {
    "name": "ipython",
    "version": 3
   },
   "file_extension": ".py",
   "mimetype": "text/x-python",
   "name": "python",
   "nbconvert_exporter": "python",
   "pygments_lexer": "ipython3",
   "version": "3.13.3"
  }
 },
 "nbformat": 4,
 "nbformat_minor": 5
}
